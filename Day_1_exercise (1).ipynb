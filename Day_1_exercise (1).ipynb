{
 "cells": [
  {
   "cell_type": "markdown",
   "metadata": {},
   "source": [
    "### The questions for the exercises are given above the cells and the expected output is given below the cell. Please type the code inserting a new cell below the question because if you run the expected output cell the output would vanish! Happy learning! "
   ]
  },
  {
   "cell_type": "markdown",
   "metadata": {},
   "source": [
    "## Exercise Question 1: Given an input list removes the element at index 4 and add it to the 2nd position and also, at the end of the list"
   ]
  },
  {
   "cell_type": "code",
   "execution_count": 1,
   "metadata": {
    "scrolled": true
   },
   "outputs": [
    {
     "name": "stdout",
     "output_type": "stream",
     "text": [
      "Original list  [34, 54, 67, 89, 11, 43, 94]\n",
      "List After removing element at index 4  [34, 54, 67, 89, 43, 94]\n",
      "List after Adding element at index 2  [34, 54, 11, 67, 89, 43, 94]\n",
      "List after Adding element at last  [34, 54, 11, 67, 89, 43, 94, 11]\n"
     ]
    }
   ],
   "source": []
  },
  {
   "cell_type": "code",
   "execution_count": 18,
   "metadata": {},
   "outputs": [
    {
     "name": "stdout",
     "output_type": "stream",
     "text": [
      "Original list: [34, 54, 67, 89, 11, 43, 94]\n",
      "List After removing element at index4 [34, 54, 67, 89, 43, 94]\n",
      "List After Adding element at index 2 [34, 54, 11, 67, 89, 43, 94]\n",
      "List after Adding element at last [34, 54, 11, 67, 89, 43, 94, 11]\n"
     ]
    }
   ],
   "source": [
    "list1 = [34,54,67,89,11,43,94]\n",
    "print(\"Original list:\", list1)\n",
    "a = list1.pop(4)\n",
    "print(\"List After removing element at index4\", list1)\n",
    "list1.insert(2,a)\n",
    "print(\"List After Adding element at index 2\", list1)\n",
    "list1.append(11)\n",
    "print(\"List after Adding element at last\",list1)"
   ]
  },
  {
   "cell_type": "markdown",
   "metadata": {},
   "source": [
    "## Exercise Question 2: Given a Python list you should be able to display Python list in the following order"
   ]
  },
  {
   "cell_type": "code",
   "execution_count": 2,
   "metadata": {},
   "outputs": [
    {
     "name": "stdout",
     "output_type": "stream",
     "text": [
      "The Original List is: [100, 200, 300, 400, 500]\n",
      "The Expected result is:  [500, 400, 300, 200, 100]\n"
     ]
    }
   ],
   "source": []
  },
  {
   "cell_type": "code",
   "execution_count": 19,
   "metadata": {},
   "outputs": [
    {
     "name": "stdout",
     "output_type": "stream",
     "text": [
      "The Original List is: [100, 200, 300, 400, 500]\n",
      "The Expected result is: [500, 400, 300, 200, 100]\n"
     ]
    }
   ],
   "source": [
    "lst= [100,200,300,400,500]\n",
    "print(\"The Original List is:\",lst)\n",
    "lst.sort(reverse=True)\n",
    "print(\"The Expected result is:\",lst)"
   ]
  },
  {
   "cell_type": "markdown",
   "metadata": {},
   "source": [
    "## Exercise Question 3: Concatenate (join) two lists in the following order\n"
   ]
  },
  {
   "cell_type": "code",
   "execution_count": 3,
   "metadata": {},
   "outputs": [
    {
     "name": "stdout",
     "output_type": "stream",
     "text": [
      "The original list1: ['Hello ', 'take ']\n",
      "The original list2: ['Dear', 'Sir']\n",
      "The Expected result is: ['Hello ', 'take ', 'Dear', 'Sir']\n"
     ]
    }
   ],
   "source": []
  },
  {
   "cell_type": "code",
   "execution_count": 20,
   "metadata": {},
   "outputs": [
    {
     "name": "stdout",
     "output_type": "stream",
     "text": [
      "The original list1: ['Hello', 'take']\n",
      "The original list2: ['Dear', 'Sir']\n",
      "The Expected result is: ['Hello', 'take', 'Dear', 'Sir']\n"
     ]
    }
   ],
   "source": [
    "list1 = ['Hello','take']\n",
    "print(\"The original list1:\", list1)\n",
    "list2=['Dear','Sir']\n",
    "print(\"The original list2:\",list2)\n",
    "lst3 = list1 + list2\n",
    "print(\"The Expected result is:\", lst3)"
   ]
  },
  {
   "cell_type": "markdown",
   "metadata": {},
   "source": [
    "## Exercise Question 4: Add item 7000 after 6000 in the following Python List"
   ]
  },
  {
   "cell_type": "code",
   "execution_count": 12,
   "metadata": {},
   "outputs": [
    {
     "name": "stdout",
     "output_type": "stream",
     "text": [
      "The original list is: [10, 20, [300, 400, [5000, 6000], 500], 30, 40]\n",
      "The expected list is: [10, 20, [300, 400, [5000, 6000, 7000], 500], 30, 40]\n"
     ]
    }
   ],
   "source": []
  },
  {
   "cell_type": "code",
   "execution_count": 26,
   "metadata": {},
   "outputs": [
    {
     "name": "stdout",
     "output_type": "stream",
     "text": [
      "The original list is: [10, 20, [300, 400, [5000, 6000], 500], 30, 40]\n",
      "The expected list is: [10, 20, [300, 400, [5000, 6000, 7000], 500], 30, 40]\n"
     ]
    }
   ],
   "source": [
    "lstr= [10,20,[300,400,[5000,6000],500],30,40]\n",
    "print(\"The original list is:\", lstr)\n",
    "lstr[2][2].append(7000)\n",
    "print(\"The expected list is:\", lstr)"
   ]
  },
  {
   "cell_type": "markdown",
   "metadata": {},
   "source": [
    "## Exercise Question 5: Given a nested list extend it with adding sub list [\"h\", \"i\", \"j\"] in a such a way that it will look like the"
   ]
  },
  {
   "cell_type": "code",
   "execution_count": 14,
   "metadata": {},
   "outputs": [
    {
     "name": "stdout",
     "output_type": "stream",
     "text": [
      "The original List is: ['a', 'b', ['c', ['d', 'e', ['f', 'g'], 'k'], 'l'], 'm', 'n']\n",
      "The expected result is: ['a', 'b', ['c', ['d', 'e', ['f', 'g', 'h', 'i', 'j'], 'k'], 'l'], 'm', 'n']\n"
     ]
    }
   ],
   "source": []
  },
  {
   "cell_type": "code",
   "execution_count": 28,
   "metadata": {},
   "outputs": [
    {
     "name": "stdout",
     "output_type": "stream",
     "text": [
      "The original List is: ['a', 'b', ['c', ['d', 'e', ['f', 'g'], 'k'], 'l'], 'm', 'n']\n",
      "The expected result is: ['a', 'b', ['c', ['d', 'e', ['f', 'g', 'h', 'i', 'j'], 'k'], 'l'], 'm', 'n']\n"
     ]
    }
   ],
   "source": [
    "lstk= ['a', 'b', ['c', ['d', 'e', ['f', 'g'], 'k'], 'l'], 'm', 'n']\n",
    "print('The original List is:',lstk)\n",
    "lstk[2][1][2].extend(['h','i','j'])\n",
    "print('The expected result is:',lstk)"
   ]
  },
  {
   "cell_type": "markdown",
   "metadata": {},
   "source": [
    "## Exercise Question 6: Given a Python list, find value 20 in the list, and if it is present, replace it with 200. Only update the first occurrence of a value"
   ]
  },
  {
   "cell_type": "code",
   "execution_count": 15,
   "metadata": {
    "scrolled": true
   },
   "outputs": [
    {
     "name": "stdout",
     "output_type": "stream",
     "text": [
      "The original list is: [5, 10, 15, 20, 25, 50, 20]\n",
      "The expected output is: [5, 10, 15, 200, 25, 50, 20]\n"
     ]
    }
   ],
   "source": []
  },
  {
   "cell_type": "code",
   "execution_count": 29,
   "metadata": {},
   "outputs": [
    {
     "name": "stdout",
     "output_type": "stream",
     "text": [
      "The original list is: [5, 10, 15, 20, 25, 50, 20]\n",
      "The expected output is: [5, 10, 15, 200, 25, 50, 20]\n"
     ]
    }
   ],
   "source": [
    "lstm = [5, 10, 15, 20, 25, 50, 20]\n",
    "print('The original list is:',lstm)\n",
    "lstm.pop(3)\n",
    "lstm.insert(3,200)\n",
    "print(\"The expected output is:\",lstm)"
   ]
  },
  {
   "cell_type": "code",
   "execution_count": null,
   "metadata": {},
   "outputs": [],
   "source": []
  }
 ],
 "metadata": {
  "kernelspec": {
   "display_name": "Python 3",
   "language": "python",
   "name": "python3"
  },
  "language_info": {
   "codemirror_mode": {
    "name": "ipython",
    "version": 3
   },
   "file_extension": ".py",
   "mimetype": "text/x-python",
   "name": "python",
   "nbconvert_exporter": "python",
   "pygments_lexer": "ipython3",
   "version": "3.7.6"
  }
 },
 "nbformat": 4,
 "nbformat_minor": 4
}
